{
  "nbformat": 4,
  "nbformat_minor": 0,
  "metadata": {
    "colab": {
      "provenance": [],
      "authorship_tag": "ABX9TyPjT1eMPb8c6FWcesDkt/5V",
      "include_colab_link": true
    },
    "kernelspec": {
      "name": "python3",
      "display_name": "Python 3"
    },
    "language_info": {
      "name": "python"
    }
  },
  "cells": [
    {
      "cell_type": "markdown",
      "metadata": {
        "id": "view-in-github",
        "colab_type": "text"
      },
      "source": [
        "<a href=\"https://colab.research.google.com/github/viveknarapongu2801/heart_predict/blob/main/Heart.ipynb\" target=\"_parent\"><img src=\"https://colab.research.google.com/assets/colab-badge.svg\" alt=\"Open In Colab\"/></a>"
      ]
    },
    {
      "cell_type": "code",
      "execution_count": 6,
      "metadata": {
        "id": "grXKM3cYq71t"
      },
      "outputs": [],
      "source": [
        "import pandas as pd\n",
        "import numpy as np\n",
        "df=pd.read_csv('/content/heart.csv')\n"
      ]
    },
    {
      "cell_type": "code",
      "source": [
        "df.head()"
      ],
      "metadata": {
        "colab": {
          "base_uri": "https://localhost:8080/",
          "height": 226
        },
        "id": "ujXTfnS2r6Kn",
        "outputId": "6eecb0cb-501c-484a-e67a-011061f21e48"
      },
      "execution_count": 8,
      "outputs": [
        {
          "output_type": "execute_result",
          "data": {
            "text/plain": [
              "   Age Sex ChestPainType  RestingBP  Cholesterol  FastingBS RestingECG  MaxHR  \\\n",
              "0   40   M           ATA        140          289          0     Normal    172   \n",
              "1   49   F           NAP        160          180          0     Normal    156   \n",
              "2   37   M           ATA        130          283          0         ST     98   \n",
              "3   48   F           ASY        138          214          0     Normal    108   \n",
              "4   54   M           NAP        150          195          0     Normal    122   \n",
              "\n",
              "  ExerciseAngina  Oldpeak ST_Slope  HeartDisease  \n",
              "0              N      0.0       Up             0  \n",
              "1              N      1.0     Flat             1  \n",
              "2              N      0.0       Up             0  \n",
              "3              Y      1.5     Flat             1  \n",
              "4              N      0.0       Up             0  "
            ],
            "text/html": [
              "\n",
              "  <div id=\"df-614b1d5d-f95a-49cd-8f51-a21cca8e21ef\" class=\"colab-df-container\">\n",
              "    <div>\n",
              "<style scoped>\n",
              "    .dataframe tbody tr th:only-of-type {\n",
              "        vertical-align: middle;\n",
              "    }\n",
              "\n",
              "    .dataframe tbody tr th {\n",
              "        vertical-align: top;\n",
              "    }\n",
              "\n",
              "    .dataframe thead th {\n",
              "        text-align: right;\n",
              "    }\n",
              "</style>\n",
              "<table border=\"1\" class=\"dataframe\">\n",
              "  <thead>\n",
              "    <tr style=\"text-align: right;\">\n",
              "      <th></th>\n",
              "      <th>Age</th>\n",
              "      <th>Sex</th>\n",
              "      <th>ChestPainType</th>\n",
              "      <th>RestingBP</th>\n",
              "      <th>Cholesterol</th>\n",
              "      <th>FastingBS</th>\n",
              "      <th>RestingECG</th>\n",
              "      <th>MaxHR</th>\n",
              "      <th>ExerciseAngina</th>\n",
              "      <th>Oldpeak</th>\n",
              "      <th>ST_Slope</th>\n",
              "      <th>HeartDisease</th>\n",
              "    </tr>\n",
              "  </thead>\n",
              "  <tbody>\n",
              "    <tr>\n",
              "      <th>0</th>\n",
              "      <td>40</td>\n",
              "      <td>M</td>\n",
              "      <td>ATA</td>\n",
              "      <td>140</td>\n",
              "      <td>289</td>\n",
              "      <td>0</td>\n",
              "      <td>Normal</td>\n",
              "      <td>172</td>\n",
              "      <td>N</td>\n",
              "      <td>0.0</td>\n",
              "      <td>Up</td>\n",
              "      <td>0</td>\n",
              "    </tr>\n",
              "    <tr>\n",
              "      <th>1</th>\n",
              "      <td>49</td>\n",
              "      <td>F</td>\n",
              "      <td>NAP</td>\n",
              "      <td>160</td>\n",
              "      <td>180</td>\n",
              "      <td>0</td>\n",
              "      <td>Normal</td>\n",
              "      <td>156</td>\n",
              "      <td>N</td>\n",
              "      <td>1.0</td>\n",
              "      <td>Flat</td>\n",
              "      <td>1</td>\n",
              "    </tr>\n",
              "    <tr>\n",
              "      <th>2</th>\n",
              "      <td>37</td>\n",
              "      <td>M</td>\n",
              "      <td>ATA</td>\n",
              "      <td>130</td>\n",
              "      <td>283</td>\n",
              "      <td>0</td>\n",
              "      <td>ST</td>\n",
              "      <td>98</td>\n",
              "      <td>N</td>\n",
              "      <td>0.0</td>\n",
              "      <td>Up</td>\n",
              "      <td>0</td>\n",
              "    </tr>\n",
              "    <tr>\n",
              "      <th>3</th>\n",
              "      <td>48</td>\n",
              "      <td>F</td>\n",
              "      <td>ASY</td>\n",
              "      <td>138</td>\n",
              "      <td>214</td>\n",
              "      <td>0</td>\n",
              "      <td>Normal</td>\n",
              "      <td>108</td>\n",
              "      <td>Y</td>\n",
              "      <td>1.5</td>\n",
              "      <td>Flat</td>\n",
              "      <td>1</td>\n",
              "    </tr>\n",
              "    <tr>\n",
              "      <th>4</th>\n",
              "      <td>54</td>\n",
              "      <td>M</td>\n",
              "      <td>NAP</td>\n",
              "      <td>150</td>\n",
              "      <td>195</td>\n",
              "      <td>0</td>\n",
              "      <td>Normal</td>\n",
              "      <td>122</td>\n",
              "      <td>N</td>\n",
              "      <td>0.0</td>\n",
              "      <td>Up</td>\n",
              "      <td>0</td>\n",
              "    </tr>\n",
              "  </tbody>\n",
              "</table>\n",
              "</div>\n",
              "    <div class=\"colab-df-buttons\">\n",
              "\n",
              "  <div class=\"colab-df-container\">\n",
              "    <button class=\"colab-df-convert\" onclick=\"convertToInteractive('df-614b1d5d-f95a-49cd-8f51-a21cca8e21ef')\"\n",
              "            title=\"Convert this dataframe to an interactive table.\"\n",
              "            style=\"display:none;\">\n",
              "\n",
              "  <svg xmlns=\"http://www.w3.org/2000/svg\" height=\"24px\" viewBox=\"0 -960 960 960\">\n",
              "    <path d=\"M120-120v-720h720v720H120Zm60-500h600v-160H180v160Zm220 220h160v-160H400v160Zm0 220h160v-160H400v160ZM180-400h160v-160H180v160Zm440 0h160v-160H620v160ZM180-180h160v-160H180v160Zm440 0h160v-160H620v160Z\"/>\n",
              "  </svg>\n",
              "    </button>\n",
              "\n",
              "  <style>\n",
              "    .colab-df-container {\n",
              "      display:flex;\n",
              "      gap: 12px;\n",
              "    }\n",
              "\n",
              "    .colab-df-convert {\n",
              "      background-color: #E8F0FE;\n",
              "      border: none;\n",
              "      border-radius: 50%;\n",
              "      cursor: pointer;\n",
              "      display: none;\n",
              "      fill: #1967D2;\n",
              "      height: 32px;\n",
              "      padding: 0 0 0 0;\n",
              "      width: 32px;\n",
              "    }\n",
              "\n",
              "    .colab-df-convert:hover {\n",
              "      background-color: #E2EBFA;\n",
              "      box-shadow: 0px 1px 2px rgba(60, 64, 67, 0.3), 0px 1px 3px 1px rgba(60, 64, 67, 0.15);\n",
              "      fill: #174EA6;\n",
              "    }\n",
              "\n",
              "    .colab-df-buttons div {\n",
              "      margin-bottom: 4px;\n",
              "    }\n",
              "\n",
              "    [theme=dark] .colab-df-convert {\n",
              "      background-color: #3B4455;\n",
              "      fill: #D2E3FC;\n",
              "    }\n",
              "\n",
              "    [theme=dark] .colab-df-convert:hover {\n",
              "      background-color: #434B5C;\n",
              "      box-shadow: 0px 1px 3px 1px rgba(0, 0, 0, 0.15);\n",
              "      filter: drop-shadow(0px 1px 2px rgba(0, 0, 0, 0.3));\n",
              "      fill: #FFFFFF;\n",
              "    }\n",
              "  </style>\n",
              "\n",
              "    <script>\n",
              "      const buttonEl =\n",
              "        document.querySelector('#df-614b1d5d-f95a-49cd-8f51-a21cca8e21ef button.colab-df-convert');\n",
              "      buttonEl.style.display =\n",
              "        google.colab.kernel.accessAllowed ? 'block' : 'none';\n",
              "\n",
              "      async function convertToInteractive(key) {\n",
              "        const element = document.querySelector('#df-614b1d5d-f95a-49cd-8f51-a21cca8e21ef');\n",
              "        const dataTable =\n",
              "          await google.colab.kernel.invokeFunction('convertToInteractive',\n",
              "                                                    [key], {});\n",
              "        if (!dataTable) return;\n",
              "\n",
              "        const docLinkHtml = 'Like what you see? Visit the ' +\n",
              "          '<a target=\"_blank\" href=https://colab.research.google.com/notebooks/data_table.ipynb>data table notebook</a>'\n",
              "          + ' to learn more about interactive tables.';\n",
              "        element.innerHTML = '';\n",
              "        dataTable['output_type'] = 'display_data';\n",
              "        await google.colab.output.renderOutput(dataTable, element);\n",
              "        const docLink = document.createElement('div');\n",
              "        docLink.innerHTML = docLinkHtml;\n",
              "        element.appendChild(docLink);\n",
              "      }\n",
              "    </script>\n",
              "  </div>\n",
              "\n",
              "\n",
              "    <div id=\"df-ad092653-5266-4e5f-a8e0-babefb08e3c3\">\n",
              "      <button class=\"colab-df-quickchart\" onclick=\"quickchart('df-ad092653-5266-4e5f-a8e0-babefb08e3c3')\"\n",
              "                title=\"Suggest charts\"\n",
              "                style=\"display:none;\">\n",
              "\n",
              "<svg xmlns=\"http://www.w3.org/2000/svg\" height=\"24px\"viewBox=\"0 0 24 24\"\n",
              "     width=\"24px\">\n",
              "    <g>\n",
              "        <path d=\"M19 3H5c-1.1 0-2 .9-2 2v14c0 1.1.9 2 2 2h14c1.1 0 2-.9 2-2V5c0-1.1-.9-2-2-2zM9 17H7v-7h2v7zm4 0h-2V7h2v10zm4 0h-2v-4h2v4z\"/>\n",
              "    </g>\n",
              "</svg>\n",
              "      </button>\n",
              "\n",
              "<style>\n",
              "  .colab-df-quickchart {\n",
              "      --bg-color: #E8F0FE;\n",
              "      --fill-color: #1967D2;\n",
              "      --hover-bg-color: #E2EBFA;\n",
              "      --hover-fill-color: #174EA6;\n",
              "      --disabled-fill-color: #AAA;\n",
              "      --disabled-bg-color: #DDD;\n",
              "  }\n",
              "\n",
              "  [theme=dark] .colab-df-quickchart {\n",
              "      --bg-color: #3B4455;\n",
              "      --fill-color: #D2E3FC;\n",
              "      --hover-bg-color: #434B5C;\n",
              "      --hover-fill-color: #FFFFFF;\n",
              "      --disabled-bg-color: #3B4455;\n",
              "      --disabled-fill-color: #666;\n",
              "  }\n",
              "\n",
              "  .colab-df-quickchart {\n",
              "    background-color: var(--bg-color);\n",
              "    border: none;\n",
              "    border-radius: 50%;\n",
              "    cursor: pointer;\n",
              "    display: none;\n",
              "    fill: var(--fill-color);\n",
              "    height: 32px;\n",
              "    padding: 0;\n",
              "    width: 32px;\n",
              "  }\n",
              "\n",
              "  .colab-df-quickchart:hover {\n",
              "    background-color: var(--hover-bg-color);\n",
              "    box-shadow: 0 1px 2px rgba(60, 64, 67, 0.3), 0 1px 3px 1px rgba(60, 64, 67, 0.15);\n",
              "    fill: var(--button-hover-fill-color);\n",
              "  }\n",
              "\n",
              "  .colab-df-quickchart-complete:disabled,\n",
              "  .colab-df-quickchart-complete:disabled:hover {\n",
              "    background-color: var(--disabled-bg-color);\n",
              "    fill: var(--disabled-fill-color);\n",
              "    box-shadow: none;\n",
              "  }\n",
              "\n",
              "  .colab-df-spinner {\n",
              "    border: 2px solid var(--fill-color);\n",
              "    border-color: transparent;\n",
              "    border-bottom-color: var(--fill-color);\n",
              "    animation:\n",
              "      spin 1s steps(1) infinite;\n",
              "  }\n",
              "\n",
              "  @keyframes spin {\n",
              "    0% {\n",
              "      border-color: transparent;\n",
              "      border-bottom-color: var(--fill-color);\n",
              "      border-left-color: var(--fill-color);\n",
              "    }\n",
              "    20% {\n",
              "      border-color: transparent;\n",
              "      border-left-color: var(--fill-color);\n",
              "      border-top-color: var(--fill-color);\n",
              "    }\n",
              "    30% {\n",
              "      border-color: transparent;\n",
              "      border-left-color: var(--fill-color);\n",
              "      border-top-color: var(--fill-color);\n",
              "      border-right-color: var(--fill-color);\n",
              "    }\n",
              "    40% {\n",
              "      border-color: transparent;\n",
              "      border-right-color: var(--fill-color);\n",
              "      border-top-color: var(--fill-color);\n",
              "    }\n",
              "    60% {\n",
              "      border-color: transparent;\n",
              "      border-right-color: var(--fill-color);\n",
              "    }\n",
              "    80% {\n",
              "      border-color: transparent;\n",
              "      border-right-color: var(--fill-color);\n",
              "      border-bottom-color: var(--fill-color);\n",
              "    }\n",
              "    90% {\n",
              "      border-color: transparent;\n",
              "      border-bottom-color: var(--fill-color);\n",
              "    }\n",
              "  }\n",
              "</style>\n",
              "\n",
              "      <script>\n",
              "        async function quickchart(key) {\n",
              "          const quickchartButtonEl =\n",
              "            document.querySelector('#' + key + ' button');\n",
              "          quickchartButtonEl.disabled = true;  // To prevent multiple clicks.\n",
              "          quickchartButtonEl.classList.add('colab-df-spinner');\n",
              "          try {\n",
              "            const charts = await google.colab.kernel.invokeFunction(\n",
              "                'suggestCharts', [key], {});\n",
              "          } catch (error) {\n",
              "            console.error('Error during call to suggestCharts:', error);\n",
              "          }\n",
              "          quickchartButtonEl.classList.remove('colab-df-spinner');\n",
              "          quickchartButtonEl.classList.add('colab-df-quickchart-complete');\n",
              "        }\n",
              "        (() => {\n",
              "          let quickchartButtonEl =\n",
              "            document.querySelector('#df-ad092653-5266-4e5f-a8e0-babefb08e3c3 button');\n",
              "          quickchartButtonEl.style.display =\n",
              "            google.colab.kernel.accessAllowed ? 'block' : 'none';\n",
              "        })();\n",
              "      </script>\n",
              "    </div>\n",
              "\n",
              "    </div>\n",
              "  </div>\n"
            ],
            "application/vnd.google.colaboratory.intrinsic+json": {
              "type": "dataframe",
              "variable_name": "df",
              "summary": "{\n  \"name\": \"df\",\n  \"rows\": 918,\n  \"fields\": [\n    {\n      \"column\": \"Age\",\n      \"properties\": {\n        \"dtype\": \"number\",\n        \"std\": 9,\n        \"min\": 28,\n        \"max\": 77,\n        \"num_unique_values\": 50,\n        \"samples\": [\n          44,\n          68,\n          66\n        ],\n        \"semantic_type\": \"\",\n        \"description\": \"\"\n      }\n    },\n    {\n      \"column\": \"Sex\",\n      \"properties\": {\n        \"dtype\": \"category\",\n        \"num_unique_values\": 2,\n        \"samples\": [\n          \"F\",\n          \"M\"\n        ],\n        \"semantic_type\": \"\",\n        \"description\": \"\"\n      }\n    },\n    {\n      \"column\": \"ChestPainType\",\n      \"properties\": {\n        \"dtype\": \"category\",\n        \"num_unique_values\": 4,\n        \"samples\": [\n          \"NAP\",\n          \"TA\"\n        ],\n        \"semantic_type\": \"\",\n        \"description\": \"\"\n      }\n    },\n    {\n      \"column\": \"RestingBP\",\n      \"properties\": {\n        \"dtype\": \"number\",\n        \"std\": 18,\n        \"min\": 0,\n        \"max\": 200,\n        \"num_unique_values\": 67,\n        \"samples\": [\n          165,\n          118\n        ],\n        \"semantic_type\": \"\",\n        \"description\": \"\"\n      }\n    },\n    {\n      \"column\": \"Cholesterol\",\n      \"properties\": {\n        \"dtype\": \"number\",\n        \"std\": 109,\n        \"min\": 0,\n        \"max\": 603,\n        \"num_unique_values\": 222,\n        \"samples\": [\n          305,\n          321\n        ],\n        \"semantic_type\": \"\",\n        \"description\": \"\"\n      }\n    },\n    {\n      \"column\": \"FastingBS\",\n      \"properties\": {\n        \"dtype\": \"number\",\n        \"std\": 0,\n        \"min\": 0,\n        \"max\": 1,\n        \"num_unique_values\": 2,\n        \"samples\": [\n          1,\n          0\n        ],\n        \"semantic_type\": \"\",\n        \"description\": \"\"\n      }\n    },\n    {\n      \"column\": \"RestingECG\",\n      \"properties\": {\n        \"dtype\": \"category\",\n        \"num_unique_values\": 3,\n        \"samples\": [\n          \"Normal\",\n          \"ST\"\n        ],\n        \"semantic_type\": \"\",\n        \"description\": \"\"\n      }\n    },\n    {\n      \"column\": \"MaxHR\",\n      \"properties\": {\n        \"dtype\": \"number\",\n        \"std\": 25,\n        \"min\": 60,\n        \"max\": 202,\n        \"num_unique_values\": 119,\n        \"samples\": [\n          132,\n          157\n        ],\n        \"semantic_type\": \"\",\n        \"description\": \"\"\n      }\n    },\n    {\n      \"column\": \"ExerciseAngina\",\n      \"properties\": {\n        \"dtype\": \"category\",\n        \"num_unique_values\": 2,\n        \"samples\": [\n          \"Y\",\n          \"N\"\n        ],\n        \"semantic_type\": \"\",\n        \"description\": \"\"\n      }\n    },\n    {\n      \"column\": \"Oldpeak\",\n      \"properties\": {\n        \"dtype\": \"number\",\n        \"std\": 1.0665701510493233,\n        \"min\": -2.6,\n        \"max\": 6.2,\n        \"num_unique_values\": 53,\n        \"samples\": [\n          1.3,\n          0.6\n        ],\n        \"semantic_type\": \"\",\n        \"description\": \"\"\n      }\n    },\n    {\n      \"column\": \"ST_Slope\",\n      \"properties\": {\n        \"dtype\": \"category\",\n        \"num_unique_values\": 3,\n        \"samples\": [\n          \"Up\",\n          \"Flat\"\n        ],\n        \"semantic_type\": \"\",\n        \"description\": \"\"\n      }\n    },\n    {\n      \"column\": \"HeartDisease\",\n      \"properties\": {\n        \"dtype\": \"number\",\n        \"std\": 0,\n        \"min\": 0,\n        \"max\": 1,\n        \"num_unique_values\": 2,\n        \"samples\": [\n          1,\n          0\n        ],\n        \"semantic_type\": \"\",\n        \"description\": \"\"\n      }\n    }\n  ]\n}"
            }
          },
          "metadata": {},
          "execution_count": 8
        }
      ]
    },
    {
      "cell_type": "code",
      "source": [
        "df.info()"
      ],
      "metadata": {
        "colab": {
          "base_uri": "https://localhost:8080/"
        },
        "id": "B2K5ot3DsGNU",
        "outputId": "00645bbe-4ad1-4df6-8459-e8f115cc297a"
      },
      "execution_count": 9,
      "outputs": [
        {
          "output_type": "stream",
          "name": "stdout",
          "text": [
            "<class 'pandas.core.frame.DataFrame'>\n",
            "RangeIndex: 918 entries, 0 to 917\n",
            "Data columns (total 12 columns):\n",
            " #   Column          Non-Null Count  Dtype  \n",
            "---  ------          --------------  -----  \n",
            " 0   Age             918 non-null    int64  \n",
            " 1   Sex             918 non-null    object \n",
            " 2   ChestPainType   918 non-null    object \n",
            " 3   RestingBP       918 non-null    int64  \n",
            " 4   Cholesterol     918 non-null    int64  \n",
            " 5   FastingBS       918 non-null    int64  \n",
            " 6   RestingECG      918 non-null    object \n",
            " 7   MaxHR           918 non-null    int64  \n",
            " 8   ExerciseAngina  918 non-null    object \n",
            " 9   Oldpeak         918 non-null    float64\n",
            " 10  ST_Slope        918 non-null    object \n",
            " 11  HeartDisease    918 non-null    int64  \n",
            "dtypes: float64(1), int64(6), object(5)\n",
            "memory usage: 86.2+ KB\n"
          ]
        }
      ]
    },
    {
      "cell_type": "code",
      "source": [
        "df.shape"
      ],
      "metadata": {
        "colab": {
          "base_uri": "https://localhost:8080/"
        },
        "id": "LzkyUTMGsT1R",
        "outputId": "772b8feb-3d3d-4e5c-c368-876ffd670678"
      },
      "execution_count": 11,
      "outputs": [
        {
          "output_type": "execute_result",
          "data": {
            "text/plain": [
              "(918, 12)"
            ]
          },
          "metadata": {},
          "execution_count": 11
        }
      ]
    },
    {
      "cell_type": "code",
      "source": [
        "from sklearn.model_selection import train_test_split\n",
        "\n",
        "# Separate features (X) and target (y)\n",
        "X = df.drop('HeartDisease', axis=1)\n",
        "y = df['HeartDisease']\n",
        "\n",
        "# Split data into training and testing sets (80% train, 20% test)\n",
        "X_train, X_test, y_train, y_test = train_test_split(X, y, test_size=0.2, random_state=42)\n",
        "\n",
        "print(\"Training data shape:\", X_train.shape)\n",
        "print(\"Testing data shape:\", X_test.shape)"
      ],
      "metadata": {
        "colab": {
          "base_uri": "https://localhost:8080/"
        },
        "id": "9Ulrek8TsZL8",
        "outputId": "40b651f5-84c0-4042-de64-a39286b2a744"
      },
      "execution_count": 12,
      "outputs": [
        {
          "output_type": "stream",
          "name": "stdout",
          "text": [
            "Training data shape: (734, 11)\n",
            "Testing data shape: (184, 11)\n"
          ]
        }
      ]
    },
    {
      "cell_type": "code",
      "source": [
        "from sklearn.preprocessing import OneHotEncoder\n",
        "from sklearn.compose import ColumnTransformer\n",
        "\n",
        "# Identify categorical columns\n",
        "categorical_cols = ['Sex', 'ChestPainType', 'RestingECG', 'ExerciseAngina', 'ST_Slope']\n",
        "\n",
        "# Create a column transformer with OneHotEncoder\n",
        "preprocessor = ColumnTransformer(\n",
        "    transformers=[\n",
        "        ('cat', OneHotEncoder(handle_unknown='ignore'), categorical_cols)\n",
        "    ],\n",
        "    remainder='passthrough' # Keep the remaining columns\n",
        ")\n",
        "\n",
        "# Apply the transformer to the training and testing data\n",
        "X_train_encoded = preprocessor.fit_transform(X_train)\n",
        "X_test_encoded = preprocessor.transform(X_test)\n",
        "\n",
        "print(\"Encoded training data shape:\", X_train_encoded.shape)\n",
        "print(\"Encoded testing data shape:\", X_test_encoded.shape)"
      ],
      "metadata": {
        "colab": {
          "base_uri": "https://localhost:8080/"
        },
        "id": "zgNPfxbttE3B",
        "outputId": "6c8d6c38-198c-4142-f3a8-6f90674c772a"
      },
      "execution_count": 13,
      "outputs": [
        {
          "output_type": "stream",
          "name": "stdout",
          "text": [
            "Encoded training data shape: (734, 20)\n",
            "Encoded testing data shape: (184, 20)\n"
          ]
        }
      ]
    },
    {
      "cell_type": "code",
      "source": [
        "import xgboost as xgb\n",
        "\n",
        "# Initialize XGBoost classifier\n",
        "model = xgb.XGBClassifier(random_state=42)\n",
        "\n",
        "# Train the model\n",
        "model.fit(X_train_encoded, y_train)\n",
        "\n",
        "print(\"XGBoost model trained successfully!\")"
      ],
      "metadata": {
        "colab": {
          "base_uri": "https://localhost:8080/"
        },
        "id": "YNVjCWNBt8Vd",
        "outputId": "ec79c844-3ca6-4349-c18a-a7d9d1958a39"
      },
      "execution_count": 15,
      "outputs": [
        {
          "output_type": "stream",
          "name": "stdout",
          "text": [
            "XGBoost model trained successfully!\n"
          ]
        }
      ]
    },
    {
      "cell_type": "code",
      "source": [
        "from sklearn.metrics import accuracy_score, precision_score, recall_score, f1_score\n",
        "\n",
        "# Make predictions on the testing data\n",
        "y_pred = model.predict(X_test_encoded)\n",
        "\n",
        "# Calculate evaluation metrics\n",
        "accuracy = accuracy_score(y_test, y_pred)\n",
        "precision = precision_score(y_test, y_pred)\n",
        "recall = recall_score(y_test, y_pred)\n",
        "f1 = f1_score(y_test, y_pred)\n",
        "\n",
        "print(f\"Accuracy: {accuracy:.4f}\")\n",
        "print(f\"Precision: {precision:.4f}\")\n",
        "print(f\"Recall: {recall:.4f}\")\n",
        "print(f\"F1-score: {f1:.4f}\")"
      ],
      "metadata": {
        "colab": {
          "base_uri": "https://localhost:8080/"
        },
        "id": "YczzR870t_rQ",
        "outputId": "84fb953a-3918-4d48-ea59-166fdb242f4c"
      },
      "execution_count": 16,
      "outputs": [
        {
          "output_type": "stream",
          "name": "stdout",
          "text": [
            "Accuracy: 0.8804\n",
            "Precision: 0.9126\n",
            "Recall: 0.8785\n",
            "F1-score: 0.8952\n"
          ]
        }
      ]
    },
    {
      "cell_type": "code",
      "source": [
        "# ===============================\n",
        "# ❤️ HEART DISEASE DATA PREPROCESSING\n",
        "# ===============================\n",
        "\n",
        "import pandas as pd\n",
        "from sklearn.model_selection import train_test_split\n",
        "from sklearn.preprocessing import LabelEncoder, OneHotEncoder, StandardScaler\n",
        "from sklearn.compose import ColumnTransformer\n",
        "\n",
        "# Load dataset\n",
        "df = pd.read_csv(\"heart.csv\")\n",
        "\n",
        "# ------------------------------\n",
        "# 1️⃣ Separate Features and Target\n",
        "# ------------------------------\n",
        "X = df.drop(\"HeartDisease\", axis=1)\n",
        "y = df[\"HeartDisease\"]\n",
        "\n",
        "# ------------------------------\n",
        "# 2️⃣ Identify Column Types\n",
        "# ------------------------------\n",
        "numeric_features = [\"Age\", \"RestingBP\", \"Cholesterol\", \"MaxHR\", \"Oldpeak\"]\n",
        "binary_features = [\"Sex\", \"ExerciseAngina\", \"FastingBS\"]\n",
        "categorical_features = [\"ChestPainType\", \"RestingECG\", \"ST_Slope\"]\n",
        "\n",
        "# ------------------------------\n",
        "# 3️⃣ Label Encode Binary Columns\n",
        "# ------------------------------\n",
        "le = LabelEncoder()\n",
        "for col in binary_features:\n",
        "    X[col] = le.fit_transform(X[col])\n",
        "\n",
        "# ------------------------------\n",
        "# 4️⃣ One-Hot Encode Nominal Columns\n",
        "# ------------------------------\n",
        "ct = ColumnTransformer(\n",
        "    transformers=[\n",
        "        (\"onehot\", OneHotEncoder(drop='first', sparse_output=False), categorical_features)\n",
        "    ],\n",
        "    remainder='passthrough'  # keep other columns\n",
        ")\n",
        "\n",
        "X_encoded = pd.DataFrame(ct.fit_transform(X))\n",
        "\n",
        "# Fix column names after encoding\n",
        "ohe_cols = ct.named_transformers_[\"onehot\"].get_feature_names_out(categorical_features)\n",
        "X_encoded.columns = list(ohe_cols) + list(X.columns.drop(categorical_features))\n",
        "\n",
        "# ------------------------------\n",
        "# 5️⃣ Optional Scaling (for linear models only)\n",
        "# ------------------------------\n",
        "# ⚠️ Skip this if you're using XGBoost or Random Forest\n",
        "scaler = StandardScaler()\n",
        "X_scaled = pd.DataFrame(scaler.fit_transform(X_encoded), columns=X_encoded.columns)\n",
        "\n",
        "# ------------------------------\n",
        "# 6️⃣ Train-Test Split\n",
        "# ------------------------------\n",
        "X_train, X_test, y_train, y_test = train_test_split(X_encoded, y, test_size=0.2, random_state=42)"
      ],
      "metadata": {
        "id": "fIelWolgv9y1"
      },
      "execution_count": 18,
      "outputs": []
    },
    {
      "cell_type": "code",
      "source": [
        "from sklearn.linear_model import LogisticRegression\n",
        "\n",
        "# Initialize Logistic Regression model\n",
        "model = LogisticRegression(random_state=42)\n",
        "\n",
        "# Train the model using the scaled data\n",
        "model.fit(X_scaled, y)\n",
        "\n",
        "print(\"Logistic Regression model trained successfully!\")"
      ],
      "metadata": {
        "colab": {
          "base_uri": "https://localhost:8080/"
        },
        "id": "_kCZarf6wOpU",
        "outputId": "d0e4aee4-1ccf-431c-b56e-b5d6396ad04f"
      },
      "execution_count": 19,
      "outputs": [
        {
          "output_type": "stream",
          "name": "stdout",
          "text": [
            "Logistic Regression model trained successfully!\n"
          ]
        }
      ]
    },
    {
      "cell_type": "code",
      "source": [
        "from sklearn.metrics import accuracy_score, precision_score, recall_score, f1_score\n",
        "\n",
        "# Make predictions on the testing data\n",
        "y_pred = model.predict(X_test)\n",
        "\n",
        "# Calculate evaluation metrics\n",
        "accuracy = accuracy_score(y_test, y_pred)\n",
        "precision = precision_score(y_test, y_pred)\n",
        "recall = recall_score(y_test, y_pred)\n",
        "f1 = f1_score(y_test, y_pred)\n",
        "\n",
        "print(f\"Accuracy: {accuracy:.4f}\")\n",
        "print(f\"Precision: {precision:.4f}\")\n",
        "print(f\"Recall: {recall:.4f}\")\n",
        "print(f\"F1-score: {f1:.4f}\")"
      ],
      "metadata": {
        "colab": {
          "base_uri": "https://localhost:8080/"
        },
        "id": "8hGzy_08wfMh",
        "outputId": "b32b3e4a-8c48-446a-b337-f2be11718225"
      },
      "execution_count": 20,
      "outputs": [
        {
          "output_type": "stream",
          "name": "stdout",
          "text": [
            "Accuracy: 0.5435\n",
            "Precision: 0.8966\n",
            "Recall: 0.2430\n",
            "F1-score: 0.3824\n"
          ]
        }
      ]
    },
    {
      "cell_type": "code",
      "source": [
        "import xgboost as xgb\n",
        "\n",
        "# Initialize XGBoost classifier\n",
        "model_xgb = xgb.XGBClassifier(random_state=42)\n",
        "\n",
        "# Train the model using the encoded data (not scaled for XGBoost)\n",
        "model_xgb.fit(X_train, y_train)\n",
        "\n",
        "print(\"XGBoost model trained successfully!\")"
      ],
      "metadata": {
        "colab": {
          "base_uri": "https://localhost:8080/"
        },
        "id": "W64hNFjZwfFj",
        "outputId": "d3744984-4bff-41cb-8c2e-7b3b587d9f75"
      },
      "execution_count": 21,
      "outputs": [
        {
          "output_type": "stream",
          "name": "stdout",
          "text": [
            "XGBoost model trained successfully!\n"
          ]
        }
      ]
    },
    {
      "cell_type": "code",
      "source": [
        "from sklearn.metrics import accuracy_score, precision_score, recall_score, f1_score\n",
        "\n",
        "# Make predictions on the testing data using the XGBoost model\n",
        "y_pred_xgb = model_xgb.predict(X_test)\n",
        "\n",
        "# Calculate evaluation metrics for the XGBoost model\n",
        "accuracy_xgb = accuracy_score(y_test, y_pred_xgb)\n",
        "precision_xgb = precision_score(y_test, y_pred_xgb)\n",
        "recall_xgb = recall_score(y_test, y_pred_xgb)\n",
        "f1_xgb = f1_score(y_test, y_pred_xgb)\n",
        "\n",
        "print(f\"XGBoost Accuracy: {accuracy_xgb:.4f}\")\n",
        "print(f\"XGBoost Precision: {precision_xgb:.4f}\")\n",
        "print(f\"XGBoost Recall: {recall_xgb:.4f}\")\n",
        "print(f\"XGBoost F1-score: {f1_xgb:.4f}\")"
      ],
      "metadata": {
        "colab": {
          "base_uri": "https://localhost:8080/"
        },
        "id": "PRvc6uEJwsx8",
        "outputId": "f2b8f133-89ab-48e3-c296-683d5cae3332"
      },
      "execution_count": 22,
      "outputs": [
        {
          "output_type": "stream",
          "name": "stdout",
          "text": [
            "XGBoost Accuracy: 0.8750\n",
            "XGBoost Precision: 0.8962\n",
            "XGBoost Recall: 0.8879\n",
            "XGBoost F1-score: 0.8920\n"
          ]
        }
      ]
    },
    {
      "cell_type": "code",
      "source": [],
      "metadata": {
        "id": "5FFbkM1Kw1lR"
      },
      "execution_count": 28,
      "outputs": []
    },
    {
      "cell_type": "code",
      "metadata": {
        "colab": {
          "base_uri": "https://localhost:8080/"
        },
        "id": "0230feae",
        "outputId": "81da6f67-b86c-4582-f90a-747454207727"
      },
      "source": [
        "%%writefile app.py\n",
        "import streamlit as st\n",
        "import pandas as pd\n",
        "import joblib\n",
        "from sklearn.preprocessing import LabelEncoder, OneHotEncoder\n",
        "from sklearn.compose import ColumnTransformer\n",
        "import numpy as np\n",
        "\n",
        "# Load your trained model here\n",
        "model = joblib.load('model_heart.pkl')\n",
        "\n",
        "st.title('Heart Disease Prediction App')\n",
        "\n",
        "st.write(\"\"\"\n",
        "This app predicts the likelihood of heart disease based on your inputs.\n",
        "Please fill in the details below:\n",
        "\"\"\")\n",
        "\n",
        "# Define the features and their types (based on your preprocessing in the notebook)\n",
        "numeric_features = [\"Age\", \"RestingBP\", \"Cholesterol\", \"MaxHR\", \"Oldpeak\"]\n",
        "binary_features = [\"Sex\", \"ExerciseAngina\", \"FastingBS\"]\n",
        "categorical_features = [\"ChestPainType\", \"RestingECG\", \"ST_Slope\"]\n",
        "\n",
        "# Create input fields for your model's features\n",
        "age = st.slider('Age', 18, 100, 50)\n",
        "sex = st.selectbox('Sex', ['M', 'F'])\n",
        "chest_pain_type = st.selectbox('Chest Pain Type', ['ATA', 'NAP', 'ASY', 'TA'])\n",
        "resting_bp = st.number_input('Resting Blood Pressure (RestingBP)', 50, 200, 120)\n",
        "cholesterol = st.number_input('Cholesterol', 0, 600, 200)\n",
        "fasting_bs = st.selectbox('Fasting Blood Sugar > 120 mg/dL (FastingBS)', [0, 1])\n",
        "resting_ecg = st.selectbox('Resting Electrocardiogram (RestingECG)', ['Normal', 'ST', 'LVH'])\n",
        "max_hr = st.number_input('Maximum Heart Rate Achieved (MaxHR)', 60, 220, 150)\n",
        "exercise_angina = st.selectbox('Exercise Induced Angina (ExerciseAngina)', ['N', 'Y'])\n",
        "oldpeak = st.number_input('Oldpeak', 0.0, 6.2, 1.0)\n",
        "st_slope = st.selectbox('ST Slope', ['Up', 'Flat', 'Down'])\n",
        "\n",
        "\n",
        "# Create a dictionary with user inputs\n",
        "user_input = {\n",
        "    'Age': age,\n",
        "    'Sex': sex,\n",
        "    'ChestPainType': chest_pain_type,\n",
        "    'RestingBP': resting_bp,\n",
        "    'Cholesterol': cholesterol,\n",
        "    'FastingBS': fasting_bs,\n",
        "    'RestingECG': resting_ecg,\n",
        "    'MaxHR': max_hr,\n",
        "    'ExerciseAngina': exercise_angina,\n",
        "    'Oldpeak': oldpeak,\n",
        "    'ST_Slope': st_slope\n",
        "}\n",
        "\n",
        "# Convert user input to a pandas DataFrame\n",
        "input_df = pd.DataFrame([user_input])\n",
        "\n",
        "# Preprocess the input data\n",
        "# You need to replicate the preprocessing steps from your notebook\n",
        "# Label encode binary features\n",
        "le_sex = LabelEncoder()\n",
        "input_df['Sex'] = le_sex.fit_transform(input_df['Sex']) # Fit and transform on a small sample that includes both 'M' and 'F' if possible to avoid errors\n",
        "\n",
        "le_exercise_angina = LabelEncoder()\n",
        "input_df['ExerciseAngina'] = le_exercise_angina.fit_transform(input_df['ExerciseAngina']) # Fit and transform on a small sample that includes both 'N' and 'Y' if possible to avoid errors\n",
        "\n",
        "# One-hot encode categorical features\n",
        "# To ensure consistent columns, fit on the original training data features if possible\n",
        "# For a simple app, we can define the transformer with the known categories\n",
        "ct = ColumnTransformer(\n",
        "    transformers=[\n",
        "        (\"onehot\", OneHotEncoder(drop='first', sparse_output=False, categories=[['ATA', 'NAP', 'ASY', 'TA'], ['Normal', 'ST', 'LVH'], ['Up', 'Flat', 'Down']]), categorical_features)\n",
        "    ],\n",
        "    remainder='passthrough'  # keep other columns\n",
        ")\n",
        "\n",
        "# Create a dummy DataFrame with all possible categories to fit the ColumnTransformer\n",
        "# This is a workaround to ensure the transformer has all categories even if the user input doesn't include them all\n",
        "dummy_data = pd.DataFrame({\n",
        "    'Sex': ['M', 'F'],\n",
        "    'ChestPainType': ['ATA', 'NAP', 'ASY', 'TA'],\n",
        "    'RestingECG': ['Normal', 'ST', 'LVH'],\n",
        "    'ExerciseAngina': ['N', 'Y'],\n",
        "    'ST_Slope': ['Up', 'Flat', 'Down'],\n",
        "    'Age': [50, 50],\n",
        "    'RestingBP': [120, 120],\n",
        "    'Cholesterol': [200, 200],\n",
        "    'FastingBS': [0, 1],\n",
        "    'MaxHR': [150, 150],\n",
        "    'Oldpeak': [1.0, 1.0]\n",
        "})\n",
        "\n",
        "# Apply the same label encoding to dummy data for fitting the ColumnTransformer\n",
        "le_sex_dummy = LabelEncoder()\n",
        "dummy_data['Sex'] = le_sex_dummy.fit_transform(dummy_data['Sex'])\n",
        "\n",
        "le_exercise_angina_dummy = LabelEncoder()\n",
        "dummy_data['ExerciseAngina'] = le_exercise_angina_dummy.fit_transform(dummy_data['ExerciseAngina'])\n",
        "\n",
        "\n",
        "ct.fit(dummy_data[categorical_features + numeric_features + binary_features]) # Fit ColumnTransformer with all features\n",
        "\n",
        "input_encoded = ct.transform(input_df)\n",
        "\n",
        "# Convert the numpy array back to a DataFrame with correct column names if needed for your model (XGBoost usually works with numpy)\n",
        "# ohe_cols = ct.named_transformers_[\"onehot\"].get_feature_names_out(categorical_features)\n",
        "# encoded_col_names = list(ohe_cols) + [col for col in input_df.columns if col not in categorical_features]\n",
        "# input_encoded_df = pd.DataFrame(input_encoded, columns=encoded_col_names)\n",
        "\n",
        "\n",
        "# Make prediction when a button is clicked\n",
        "if st.button('Predict'):\n",
        "    prediction = model.predict(input_encoded)\n",
        "    prediction_proba = model.predict_proba(input_encoded)[:, 1] # For probability\n",
        "\n",
        "    # Display the prediction result\n",
        "    if prediction[0] == 1:\n",
        "        st.error('Prediction: High risk of heart disease')\n",
        "    else:\n",
        "        st.success('Prediction: Low risk of heart disease')\n",
        "\n",
        "    st.write(f'Confidence: {prediction_proba[0]:.2f}')\n",
        "\n",
        "st.write(\"Please fill in all the required fields and click 'Predict'.\")"
      ],
      "execution_count": 32,
      "outputs": [
        {
          "output_type": "stream",
          "name": "stdout",
          "text": [
            "Writing app.py\n"
          ]
        }
      ]
    },
    {
      "cell_type": "code",
      "source": [
        "import joblib\n",
        "\n",
        "# Save the trained XGBoost model\n",
        "joblib.dump(model_xgb, 'model_heart.pkl')\n",
        "\n",
        "print(\"XGBoost model saved as model_heart.pkl\")"
      ],
      "metadata": {
        "colab": {
          "base_uri": "https://localhost:8080/"
        },
        "id": "MEF6PvfTw7sI",
        "outputId": "687bdb9f-72d5-431d-bb8e-5610441e507e"
      },
      "execution_count": 30,
      "outputs": [
        {
          "output_type": "stream",
          "name": "stdout",
          "text": [
            "XGBoost model saved as model_heart.pkl\n"
          ]
        }
      ]
    },
    {
      "cell_type": "code",
      "source": [
        "%%writefile requirements.txt\n",
        "pandas\n",
        "scikit-learn\n",
        "xgboost\n",
        "streamlit\n",
        "joblib"
      ],
      "metadata": {
        "colab": {
          "base_uri": "https://localhost:8080/"
        },
        "id": "gD1cKdxIyaZC",
        "outputId": "4ca15718-48d7-44e0-c469-fba62f5452b0"
      },
      "execution_count": 31,
      "outputs": [
        {
          "output_type": "stream",
          "name": "stdout",
          "text": [
            "Writing requirements.txt\n"
          ]
        }
      ]
    }
  ]
}